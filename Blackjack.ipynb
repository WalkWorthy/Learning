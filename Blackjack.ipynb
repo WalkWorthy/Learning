{
 "cells": [
  {
   "cell_type": "code",
   "execution_count": 1,
   "id": "288f06cf-cd3a-441b-a8ce-f54365b7489c",
   "metadata": {},
   "outputs": [],
   "source": [
    "import random\n",
    "\n",
    "suits = ('Hearts', 'Diamonds', 'Spades', 'Clubs')\n",
    "ranks = ('Two', 'Three', 'Four', 'Five', 'Six', 'Seven', 'Eight', \n",
    "         'Nine', 'Ten', 'Jack', 'Queen', 'King', 'Ace')\n",
    "values = {'Two':2, 'Three':3, 'Four':4, 'Five':5, 'Six':6, 'Seven':7, \n",
    "          'Eight':8, 'Nine':9, 'Ten':10, 'Jack':10, 'Queen':10, 'King':10, 'Ace':11}\n",
    "\n",
    "playing = True"
   ]
  },
  {
   "cell_type": "code",
   "execution_count": 3,
   "id": "d9220ab3-42e2-4360-8f64-014baaade06c",
   "metadata": {},
   "outputs": [],
   "source": [
    "class Card:\n",
    "    \n",
    "    def __init__(self,suit,rank):\n",
    "        self.suit = suit\n",
    "        self.rank = rank\n",
    "    \n",
    "    def __str__(self):\n",
    "        return self.rank + ' of ' + self.suit"
   ]
  },
  {
   "cell_type": "code",
   "execution_count": 5,
   "id": "e8148db8-ca2c-40f7-900f-fdebf485393d",
   "metadata": {},
   "outputs": [],
   "source": [
    "class Deck:\n",
    "    \n",
    "    def __init__(self):\n",
    "        self.deck = []\n",
    "        for suit in suits:\n",
    "            for rank in ranks:\n",
    "                self.deck.append(Card(suit,rank))\n",
    "    \n",
    "    def __str__(self):\n",
    "        deck_comp = ''\n",
    "        for card in self.deck:\n",
    "            deck_comp += '\\n' + card.__str__()\n",
    "        return \"The deck has: \" + deck_comp\n",
    "\n",
    "    def shuffle(self):\n",
    "        random.shuffle(self.deck)\n",
    "        \n",
    "    def deal(self):\n",
    "        return self.deck.pop()"
   ]
  },
  {
   "cell_type": "code",
   "execution_count": 7,
   "id": "be91bed8-e878-402d-9527-14c401d7bc3b",
   "metadata": {},
   "outputs": [],
   "source": [
    "class Hand:\n",
    "    def __init__(self):\n",
    "        self.cards = []\n",
    "        self.value = 0\n",
    "        self.aces = 0\n",
    "    \n",
    "    def add_card(self,card):\n",
    "        self.cards.append(card)\n",
    "        self.value += values[card.rank]\n",
    "        if card.rank == 'Ace':\n",
    "            self.aces += 1\n",
    "    \n",
    "    def adjust_for_ace(self):\n",
    "        while self.value > 21 and self.aces > 0:\n",
    "            self.value -= 10\n",
    "            self.aces -= 1"
   ]
  },
  {
   "cell_type": "code",
   "execution_count": 9,
   "id": "9317df4d-4812-4027-b982-281d1eb9e8a9",
   "metadata": {},
   "outputs": [],
   "source": [
    "class Chips:\n",
    "    \n",
    "    def __init__(self):\n",
    "        self.total = int(input('How many chips would you like to purchase? '))\n",
    "        self.bet = 0\n",
    "        \n",
    "    def win_bet(self):\n",
    "        self.total += self.bet * 2\n",
    "    \n",
    "    def lose_bet(self):\n",
    "        self.total -= self.bet\n",
    "\n",
    "    def return_bet(self):\n",
    "        self.total += self.bet"
   ]
  },
  {
   "cell_type": "code",
   "execution_count": 11,
   "id": "618fcf01-bf5c-4605-8433-7c26f00c4eae",
   "metadata": {},
   "outputs": [],
   "source": [
    "def take_bet(chips):\n",
    "    \n",
    "    while True:\n",
    "        try:\n",
    "            chips.bet = int(input(\"How many chips would you like to bet?\"))\n",
    "        except ValueError:\n",
    "            print(\"Sorry, please provide a number.\")\n",
    "        else:\n",
    "            if chips.bet > chips.total:\n",
    "                print(\"Sorry, your bet can't exceed\", chips.total)\n",
    "            else:\n",
    "                break"
   ]
  },
  {
   "cell_type": "code",
   "execution_count": 13,
   "id": "fc25211b-129f-4493-89fb-3d6ffdf6f369",
   "metadata": {},
   "outputs": [],
   "source": [
    "def hit(deck,hand):\n",
    "    \n",
    "    hand.add_card(deck.deal())\n",
    "    hand.adjust_for_ace()"
   ]
  },
  {
   "cell_type": "code",
   "execution_count": 15,
   "id": "5f9ca648-08e3-4c5d-800a-d26caf396477",
   "metadata": {},
   "outputs": [],
   "source": [
    "def hit_or_stand(deck,hand):\n",
    "    global playing\n",
    "    \n",
    "    while True:\n",
    "        x = input('Hit or Stand? Enter h or s')\n",
    "        if x[0].lower() == 'h':\n",
    "            hit(deck,hand)\n",
    "\n",
    "        elif x[0].lower() == 's':\n",
    "            print(\"Player Stands. Dealer is playing.\")\n",
    "            playing = False\n",
    "\n",
    "        else:\n",
    "            print(\"Sorry, please type h or s.\")\n",
    "            continue\n",
    "        break"
   ]
  },
  {
   "cell_type": "code",
   "execution_count": 17,
   "id": "33fbf63f-1964-4546-98c8-0c4b529f8a12",
   "metadata": {},
   "outputs": [],
   "source": [
    "def show_some(player, dealer):\n",
    "    \n",
    "    print(\"\\n Dealer's hand: \")\n",
    "    print(dealer.cards[0])\n",
    "    print(\"Second card hidden!\")\n",
    "    \n",
    "    print(\"\\n Player's hand: \",*player.cards, sep = '\\n')\n",
    "        \n",
    "def show_all(player, dealer):\n",
    "    \n",
    "    print(\"\\n Dealer's hand: \",*dealer.cards, sep = '\\n')\n",
    "    print(f\"Value of Dealer's hand is : {dealer.value}\")\n",
    "    \n",
    "    print(\"\\n Player's hand: \",*player.cards, sep = '\\n')\n",
    "    print(f\"Value of Player's hand is : {player.value}\")"
   ]
  },
  {
   "cell_type": "code",
   "execution_count": 19,
   "id": "7f121da6-a8a9-4494-93d1-9282b547c85e",
   "metadata": {},
   "outputs": [],
   "source": [
    "def player_busts(player,dealer,chips):\n",
    "    print(\"Current Player BUSTS!\")\n",
    "    chips.lose_bet()\n",
    "\n",
    "def player_wins(player,dealer,chips):\n",
    "    print(\"Current Player WINS!\")\n",
    "    chips.win_bet()\n",
    "\n",
    "def dealer_busts(player,dealer,chips):\n",
    "    print(\"DEALER BUSTED\")\n",
    "    chips.win_bet()\n",
    "    \n",
    "def dealer_wins(player,dealer,chips):\n",
    "    print(\"DEALER WINS!\")\n",
    "    chips.lose_bet()\n",
    "    \n",
    "def push(player,dealer):\n",
    "    print(\"Dealer and a player tie! PUSH\")"
   ]
  },
  {
   "cell_type": "code",
   "execution_count": 21,
   "id": "b874664c-3c34-4393-9d35-24cee3cdb67c",
   "metadata": {},
   "outputs": [
    {
     "name": "stdin",
     "output_type": "stream",
     "text": [
      "How many chips would you like to purchase?  10000\n"
     ]
    }
   ],
   "source": [
    "player1_chips = Chips()"
   ]
  },
  {
   "cell_type": "code",
   "execution_count": null,
   "id": "be7c58f1-457b-45fe-9103-02dbbed9b6be",
   "metadata": {},
   "outputs": [
    {
     "name": "stdout",
     "output_type": "stream",
     "text": [
      "Welcome to Blackjack\n",
      "\n",
      " Player total chips are at: 10000\n"
     ]
    },
    {
     "name": "stdin",
     "output_type": "stream",
     "text": [
      "How many chips would you like to bet? 750\n"
     ]
    },
    {
     "name": "stdout",
     "output_type": "stream",
     "text": [
      "\n",
      " Dealer's hand: \n",
      "Five of Hearts\n",
      "Second card hidden!\n",
      "\n",
      " Player's hand: \n",
      "Five of Spades\n",
      "King of Hearts\n"
     ]
    },
    {
     "name": "stdin",
     "output_type": "stream",
     "text": [
      "Hit or Stand? Enter h or s h\n"
     ]
    },
    {
     "name": "stdout",
     "output_type": "stream",
     "text": [
      "\n",
      " Dealer's hand: \n",
      "Five of Hearts\n",
      "Second card hidden!\n",
      "\n",
      " Player's hand: \n",
      "Five of Spades\n",
      "King of Hearts\n",
      "Five of Diamonds\n"
     ]
    },
    {
     "name": "stdin",
     "output_type": "stream",
     "text": [
      "Hit or Stand? Enter h or s s\n"
     ]
    },
    {
     "name": "stdout",
     "output_type": "stream",
     "text": [
      "Player Stands. Dealer is playing.\n",
      "\n",
      " Dealer's hand: \n",
      "Five of Hearts\n",
      "Second card hidden!\n",
      "\n",
      " Player's hand: \n",
      "Five of Spades\n",
      "King of Hearts\n",
      "Five of Diamonds\n",
      "\n",
      " Dealer's hand: \n",
      "Five of Hearts\n",
      "Nine of Diamonds\n",
      "Seven of Spades\n",
      "Value of Dealer's hand is : 21\n",
      "\n",
      " Player's hand: \n",
      "Five of Spades\n",
      "King of Hearts\n",
      "Five of Diamonds\n",
      "Value of Player's hand is : 20\n",
      "DEALER WINS!\n",
      "\n",
      " Player total chips are at: 9250\n"
     ]
    },
    {
     "name": "stdin",
     "output_type": "stream",
     "text": [
      "Would you like to play another hand? Enter 'y' or 'n'  y\n"
     ]
    },
    {
     "name": "stdout",
     "output_type": "stream",
     "text": [
      "Welcome to Blackjack\n",
      "\n",
      " Player total chips are at: 9250\n"
     ]
    },
    {
     "name": "stdin",
     "output_type": "stream",
     "text": [
      "How many chips would you like to bet? 1250\n"
     ]
    },
    {
     "name": "stdout",
     "output_type": "stream",
     "text": [
      "\n",
      " Dealer's hand: \n",
      "Six of Spades\n",
      "Second card hidden!\n",
      "\n",
      " Player's hand: \n",
      "Queen of Diamonds\n",
      "Six of Clubs\n"
     ]
    },
    {
     "name": "stdin",
     "output_type": "stream",
     "text": [
      "Hit or Stand? Enter h or s h\n"
     ]
    },
    {
     "name": "stdout",
     "output_type": "stream",
     "text": [
      "\n",
      " Dealer's hand: \n",
      "Six of Spades\n",
      "Second card hidden!\n",
      "\n",
      " Player's hand: \n",
      "Queen of Diamonds\n",
      "Six of Clubs\n",
      "Ten of Clubs\n",
      "Current Player BUSTS!\n",
      "\n",
      " Player total chips are at: 8000\n"
     ]
    },
    {
     "name": "stdin",
     "output_type": "stream",
     "text": [
      "Would you like to play another hand? Enter 'y' or 'n'  y\n"
     ]
    },
    {
     "name": "stdout",
     "output_type": "stream",
     "text": [
      "Welcome to Blackjack\n",
      "\n",
      " Player total chips are at: 8000\n"
     ]
    },
    {
     "name": "stdin",
     "output_type": "stream",
     "text": [
      "How many chips would you like to bet? 1200\n"
     ]
    },
    {
     "name": "stdout",
     "output_type": "stream",
     "text": [
      "\n",
      " Dealer's hand: \n",
      "Four of Hearts\n",
      "Second card hidden!\n",
      "\n",
      " Player's hand: \n",
      "Queen of Hearts\n",
      "Ten of Spades\n"
     ]
    },
    {
     "name": "stdin",
     "output_type": "stream",
     "text": [
      "Hit or Stand? Enter h or s s\n"
     ]
    },
    {
     "name": "stdout",
     "output_type": "stream",
     "text": [
      "Player Stands. Dealer is playing.\n",
      "\n",
      " Dealer's hand: \n",
      "Four of Hearts\n",
      "Second card hidden!\n",
      "\n",
      " Player's hand: \n",
      "Queen of Hearts\n",
      "Ten of Spades\n",
      "\n",
      " Dealer's hand: \n",
      "Four of Hearts\n",
      "Seven of Clubs\n",
      "King of Hearts\n",
      "Value of Dealer's hand is : 21\n",
      "\n",
      " Player's hand: \n",
      "Queen of Hearts\n",
      "Ten of Spades\n",
      "Value of Player's hand is : 20\n",
      "DEALER WINS!\n",
      "\n",
      " Player total chips are at: 6800\n"
     ]
    },
    {
     "name": "stdin",
     "output_type": "stream",
     "text": [
      "Would you like to play another hand? Enter 'y' or 'n'  y\n"
     ]
    },
    {
     "name": "stdout",
     "output_type": "stream",
     "text": [
      "Welcome to Blackjack\n",
      "\n",
      " Player total chips are at: 6800\n"
     ]
    },
    {
     "name": "stdin",
     "output_type": "stream",
     "text": [
      "How many chips would you like to bet? 800\n"
     ]
    },
    {
     "name": "stdout",
     "output_type": "stream",
     "text": [
      "\n",
      " Dealer's hand: \n",
      "Ten of Hearts\n",
      "Second card hidden!\n",
      "\n",
      " Player's hand: \n",
      "Five of Spades\n",
      "Nine of Clubs\n"
     ]
    },
    {
     "name": "stdin",
     "output_type": "stream",
     "text": [
      "Hit or Stand? Enter h or s h\n"
     ]
    },
    {
     "name": "stdout",
     "output_type": "stream",
     "text": [
      "\n",
      " Dealer's hand: \n",
      "Ten of Hearts\n",
      "Second card hidden!\n",
      "\n",
      " Player's hand: \n",
      "Five of Spades\n",
      "Nine of Clubs\n",
      "Nine of Spades\n",
      "Current Player BUSTS!\n",
      "\n",
      " Player total chips are at: 6000\n"
     ]
    },
    {
     "name": "stdin",
     "output_type": "stream",
     "text": [
      "Would you like to play another hand? Enter 'y' or 'n'  y\n"
     ]
    },
    {
     "name": "stdout",
     "output_type": "stream",
     "text": [
      "Welcome to Blackjack\n",
      "\n",
      " Player total chips are at: 6000\n"
     ]
    },
    {
     "name": "stdin",
     "output_type": "stream",
     "text": [
      "How many chips would you like to bet? 540\n"
     ]
    },
    {
     "name": "stdout",
     "output_type": "stream",
     "text": [
      "\n",
      " Dealer's hand: \n",
      "Nine of Diamonds\n",
      "Second card hidden!\n",
      "\n",
      " Player's hand: \n",
      "Three of Diamonds\n",
      "Jack of Hearts\n"
     ]
    },
    {
     "name": "stdin",
     "output_type": "stream",
     "text": [
      "Hit or Stand? Enter h or s h\n"
     ]
    },
    {
     "name": "stdout",
     "output_type": "stream",
     "text": [
      "\n",
      " Dealer's hand: \n",
      "Nine of Diamonds\n",
      "Second card hidden!\n",
      "\n",
      " Player's hand: \n",
      "Three of Diamonds\n",
      "Jack of Hearts\n",
      "Two of Hearts\n"
     ]
    },
    {
     "name": "stdin",
     "output_type": "stream",
     "text": [
      "Hit or Stand? Enter h or s h\n"
     ]
    },
    {
     "name": "stdout",
     "output_type": "stream",
     "text": [
      "\n",
      " Dealer's hand: \n",
      "Nine of Diamonds\n",
      "Second card hidden!\n",
      "\n",
      " Player's hand: \n",
      "Three of Diamonds\n",
      "Jack of Hearts\n",
      "Two of Hearts\n",
      "Jack of Diamonds\n",
      "Current Player BUSTS!\n",
      "\n",
      " Player total chips are at: 5460\n"
     ]
    },
    {
     "name": "stdin",
     "output_type": "stream",
     "text": [
      "Would you like to play another hand? Enter 'y' or 'n'  y\n"
     ]
    },
    {
     "name": "stdout",
     "output_type": "stream",
     "text": [
      "Welcome to Blackjack\n",
      "\n",
      " Player total chips are at: 5460\n"
     ]
    },
    {
     "name": "stdin",
     "output_type": "stream",
     "text": [
      "How many chips would you like to bet? 460\n"
     ]
    },
    {
     "name": "stdout",
     "output_type": "stream",
     "text": [
      "\n",
      " Dealer's hand: \n",
      "Five of Hearts\n",
      "Second card hidden!\n",
      "\n",
      " Player's hand: \n",
      "Ten of Spades\n",
      "Three of Spades\n"
     ]
    },
    {
     "name": "stdin",
     "output_type": "stream",
     "text": [
      "Hit or Stand? Enter h or s h\n"
     ]
    },
    {
     "name": "stdout",
     "output_type": "stream",
     "text": [
      "\n",
      " Dealer's hand: \n",
      "Five of Hearts\n",
      "Second card hidden!\n",
      "\n",
      " Player's hand: \n",
      "Ten of Spades\n",
      "Three of Spades\n",
      "Jack of Clubs\n",
      "Current Player BUSTS!\n",
      "\n",
      " Player total chips are at: 5000\n"
     ]
    },
    {
     "name": "stdin",
     "output_type": "stream",
     "text": [
      "Would you like to play another hand? Enter 'y' or 'n'  y\n"
     ]
    },
    {
     "name": "stdout",
     "output_type": "stream",
     "text": [
      "Welcome to Blackjack\n",
      "\n",
      " Player total chips are at: 5000\n"
     ]
    },
    {
     "name": "stdin",
     "output_type": "stream",
     "text": [
      "How many chips would you like to bet? 430\n"
     ]
    },
    {
     "name": "stdout",
     "output_type": "stream",
     "text": [
      "\n",
      " Dealer's hand: \n",
      "King of Hearts\n",
      "Second card hidden!\n",
      "\n",
      " Player's hand: \n",
      "Eight of Hearts\n",
      "Nine of Clubs\n"
     ]
    },
    {
     "name": "stdin",
     "output_type": "stream",
     "text": [
      "Hit or Stand? Enter h or s s\n"
     ]
    },
    {
     "name": "stdout",
     "output_type": "stream",
     "text": [
      "Player Stands. Dealer is playing.\n",
      "\n",
      " Dealer's hand: \n",
      "King of Hearts\n",
      "Second card hidden!\n",
      "\n",
      " Player's hand: \n",
      "Eight of Hearts\n",
      "Nine of Clubs\n",
      "\n",
      " Dealer's hand: \n",
      "King of Hearts\n",
      "Two of Hearts\n",
      "Queen of Diamonds\n",
      "Value of Dealer's hand is : 22\n",
      "\n",
      " Player's hand: \n",
      "Eight of Hearts\n",
      "Nine of Clubs\n",
      "Value of Player's hand is : 17\n",
      "DEALER BUSTED\n",
      "\n",
      " Player total chips are at: 5860\n"
     ]
    }
   ],
   "source": [
    "while True:\n",
    "    print(\"Welcome to Blackjack\")\n",
    "    deck = Deck()\n",
    "    deck.shuffle()\n",
    "\n",
    "    print('\\n Player total chips are at: {}'.format(player1_chips.total))\n",
    "    take_bet(player1_chips)\n",
    "    \n",
    "    dealer_hand = Hand()\n",
    "    dealer_hand.add_card(deck.deal())\n",
    "\n",
    "    player1_hand = Hand()\n",
    "    player1_hand.add_card(deck.deal())\n",
    "    player1_hand.add_card(deck.deal())\n",
    "    \n",
    "    show_some(player1_hand, dealer_hand)\n",
    "    \n",
    "    while playing:\n",
    "        \n",
    "        hit_or_stand(deck,player1_hand)\n",
    "        \n",
    "        show_some(player1_hand, dealer_hand)\n",
    "        \n",
    "        if player1_hand.value > 21:\n",
    "            player_busts(player1_hand, dealer_hand, player1_chips)\n",
    "            break\n",
    "\n",
    "    if player1_hand.value <= 21:\n",
    "        while dealer_hand.value < 17:\n",
    "            hit(deck,dealer_hand)\n",
    "        \n",
    "        show_all(player1_hand,dealer_hand)\n",
    "        if dealer_hand.value > 21:\n",
    "            dealer_busts(player1_hand,dealer_hand,player1_chips)\n",
    "        elif dealer_hand.value > player1_hand.value and (dealer_hand.value <= 21):\n",
    "            dealer_wins(player1_hand,dealer_hand,player1_chips)\n",
    "        elif dealer_hand.value < player1_hand.value:\n",
    "            player_wins(player1_hand,dealer_hand,player1_chips)\n",
    "        else:\n",
    "            push(player1_hand,dealer_hand)\n",
    "    \n",
    "    print('\\n Player total chips are at: {}'.format(player1_chips.total))\n",
    "\n",
    "    new_game = input(\"Would you like to play another hand? Enter 'y' or 'n' \")\n",
    "    \n",
    "    if new_game[0].lower()=='y':\n",
    "        playing=True\n",
    "        continue\n",
    "    else:\n",
    "        print(\"Thanks for playing!\")\n",
    "        break"
   ]
  },
  {
   "cell_type": "code",
   "execution_count": null,
   "id": "33ca11a4-9181-4d2a-8048-078019a84efc",
   "metadata": {},
   "outputs": [],
   "source": []
  }
 ],
 "metadata": {
  "kernelspec": {
   "display_name": "Python [conda env:base] *",
   "language": "python",
   "name": "conda-base-py"
  },
  "language_info": {
   "codemirror_mode": {
    "name": "ipython",
    "version": 3
   },
   "file_extension": ".py",
   "mimetype": "text/x-python",
   "name": "python",
   "nbconvert_exporter": "python",
   "pygments_lexer": "ipython3",
   "version": "3.12.7"
  }
 },
 "nbformat": 4,
 "nbformat_minor": 5
}
