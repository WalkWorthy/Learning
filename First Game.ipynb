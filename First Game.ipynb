{
 "cells": [
  {
   "cell_type": "code",
   "execution_count": null,
   "id": "fa8b4631-19e4-4db6-97af-7d258f9423fd",
   "metadata": {},
   "outputs": [],
   "source": [
    "cupgame = [' ', 'O', ' ', ' ', ' ']\n",
    "from random import shuffle\n",
    "\n",
    "def shuffle_list(cupgame):\n",
    "    shuffle(cupgame)\n",
    "    return cupgame"
   ]
  },
  {
   "cell_type": "code",
   "execution_count": null,
   "id": "6c411e60-95c9-41a7-8f57-0c9dc75241a5",
   "metadata": {},
   "outputs": [],
   "source": [
    "play = shuffle_list(cupgame)"
   ]
  },
  {
   "cell_type": "code",
   "execution_count": null,
   "id": "29e79854-c54a-42e2-a467-cf4efcbbc052",
   "metadata": {},
   "outputs": [],
   "source": [
    "def player_guess():\n",
    "\n",
    "    guess=''\n",
    "\n",
    "    while guess not in ['0','1','2','3','4']:\n",
    "        guess = input(\"Pick a number: 0,1,2,3, or 4: \")\n",
    "\n",
    "    return int(guess)"
   ]
  },
  {
   "cell_type": "code",
   "execution_count": null,
   "id": "9899d96b-7ecf-4a51-96ad-6f029313e077",
   "metadata": {},
   "outputs": [],
   "source": [
    "def check_guess(cupgame, guess):\n",
    "    if cupgame[guess] == 'O':\n",
    "        print(\"Correct!\")\n",
    "    else:\n",
    "        print(\"Wrong guess!\")\n",
    "        print(cupgame)"
   ]
  },
  {
   "cell_type": "code",
   "execution_count": null,
   "id": "599d34a2-112c-441f-87e0-494bea8b8efd",
   "metadata": {},
   "outputs": [],
   "source": [
    "mixedup_cups = shuffle_list(cupgame)\n",
    "guess = player_guess()\n",
    "check_guess(mixedup_cups,guess)"
   ]
  }
 ],
 "metadata": {
  "kernelspec": {
   "display_name": "Python [conda env:base] *",
   "language": "python",
   "name": "conda-base-py"
  },
  "language_info": {
   "codemirror_mode": {
    "name": "ipython",
    "version": 3
   },
   "file_extension": ".py",
   "mimetype": "text/x-python",
   "name": "python",
   "nbconvert_exporter": "python",
   "pygments_lexer": "ipython3",
   "version": "3.12.7"
  }
 },
 "nbformat": 4,
 "nbformat_minor": 5
}
