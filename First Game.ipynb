{
 "cells": [
  {
   "cell_type": "code",
   "execution_count": null,
   "id": "fa8b4631-19e4-4db6-97af-7d258f9423fd",
   "metadata": {},
   "outputs": [],
   "source": [
    "cupgame = [' ', 'O', ' ', ' ', ' ']\n",
    "from random import shuffle\n",
    "\n",
    "def shuffle_list(cupgame):\n",
    "    shuffle(cupgame)\n",
    "    return cupgame"
   ]
  },
  {
   "cell_type": "code",
   "execution_count": null,
   "id": "6c411e60-95c9-41a7-8f57-0c9dc75241a5",
   "metadata": {},
   "outputs": [],
   "source": [
    "play = shuffle_list(cupgame)"
   ]
  },
  {
   "cell_type": "code",
   "execution_count": null,
   "id": "ffa83793-5e29-4034-8700-5a7839754c21",
   "metadata": {},
   "outputs": [],
   "source": [
    "play"
   ]
  }
 ],
 "metadata": {
  "kernelspec": {
   "display_name": "Python [conda env:base] *",
   "language": "python",
   "name": "conda-base-py"
  },
  "language_info": {
   "codemirror_mode": {
    "name": "ipython",
    "version": 3
   },
   "file_extension": ".py",
   "mimetype": "text/x-python",
   "name": "python",
   "nbconvert_exporter": "python",
   "pygments_lexer": "ipython3",
   "version": "3.12.7"
  }
 },
 "nbformat": 4,
 "nbformat_minor": 5
}
