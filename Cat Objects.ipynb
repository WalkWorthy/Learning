{
 "cells": [
  {
   "cell_type": "code",
   "execution_count": 1,
   "id": "7b5fa705-4b3e-4cad-a959-eaf7abb1b28c",
   "metadata": {},
   "outputs": [],
   "source": [
    "class Cat():\n",
    "\n",
    "    def __init__(self, color, pattern, name, behavior):\n",
    "        self.color = color\n",
    "        self.pattern = pattern\n",
    "        self.name = name\n",
    "        self.behavior = behavior\n",
    "\n",
    "    def meow(self):\n",
    "        print(\"Meow, meow, meow! I'm a kitty named {} and I'm starving for attention and food! Please little miss Caroline will you get up so I can be happy?\".format(self.name))"
   ]
  },
  {
   "cell_type": "code",
   "execution_count": 2,
   "id": "0daf371b-1f7b-4ae5-850f-e220fc94ae43",
   "metadata": {},
   "outputs": [],
   "source": [
    "cat1 = Cat('white', 'spotted', 'Oscar', 'bad... like realllllllly bad')"
   ]
  },
  {
   "cell_type": "code",
   "execution_count": 3,
   "id": "77e5f6a1-4cc7-4166-acba-c0e711bae54e",
   "metadata": {},
   "outputs": [],
   "source": [
    "cat2 = Cat('brown and red', 'striped', 'Cinnamon', 'good overall but she talks back a lot')"
   ]
  },
  {
   "cell_type": "code",
   "execution_count": 4,
   "id": "d8b9a110-c7ab-4955-8de8-7a767598a9b1",
   "metadata": {},
   "outputs": [
    {
     "name": "stdout",
     "output_type": "stream",
     "text": [
      "Kitty Name: Oscar\n",
      "Color: white\n",
      "Pattern: spotted\n",
      "Behavior: bad... like realllllllly bad\n"
     ]
    }
   ],
   "source": [
    "print('Kitty Name: ' + cat1.name)\n",
    "print('Color: ' + cat1.color)\n",
    "print('Pattern: ' + cat1.pattern)\n",
    "print('Behavior: ' + cat1.behavior)"
   ]
  },
  {
   "cell_type": "code",
   "execution_count": 6,
   "id": "aadbc068-1d6f-4b55-b6e0-b0e04cc68eb5",
   "metadata": {},
   "outputs": [
    {
     "name": "stdout",
     "output_type": "stream",
     "text": [
      "Meow, meow, meow! I'm a kitty named Oscar and I'm starving for attention and food! Please little miss Caroline will you get up so I can be happy?\n"
     ]
    }
   ],
   "source": [
    "cat1.meow()"
   ]
  },
  {
   "cell_type": "code",
   "execution_count": 8,
   "id": "65fdab13-a05b-4f34-85b2-60ea265ec8f7",
   "metadata": {},
   "outputs": [
    {
     "name": "stdout",
     "output_type": "stream",
     "text": [
      "Kitty Name: Cinnamon\n",
      "Color: brown and red\n",
      "Pattern: striped\n",
      "Behavior: good overall but she talks back a lot\n"
     ]
    }
   ],
   "source": [
    "print('Kitty Name: ' + cat2.name)\n",
    "print('Color: ' + cat2.color)\n",
    "print('Pattern: ' + cat2.pattern)\n",
    "print('Behavior: ' + cat2.behavior)"
   ]
  },
  {
   "cell_type": "code",
   "execution_count": 10,
   "id": "e3be6014-0991-4e1f-9d70-7d4a794bb508",
   "metadata": {},
   "outputs": [
    {
     "name": "stdout",
     "output_type": "stream",
     "text": [
      "Meow, meow, meow! I'm a kitty named Cinnamon and I'm starving for attention and food! Please little miss Caroline will you get up so I can be happy?\n"
     ]
    }
   ],
   "source": [
    "cat2.meow()"
   ]
  },
  {
   "cell_type": "code",
   "execution_count": null,
   "id": "72119489-97b1-4290-8387-dbcecb76cffc",
   "metadata": {},
   "outputs": [],
   "source": []
  }
 ],
 "metadata": {
  "kernelspec": {
   "display_name": "Python [conda env:base] *",
   "language": "python",
   "name": "conda-base-py"
  },
  "language_info": {
   "codemirror_mode": {
    "name": "ipython",
    "version": 3
   },
   "file_extension": ".py",
   "mimetype": "text/x-python",
   "name": "python",
   "nbconvert_exporter": "python",
   "pygments_lexer": "ipython3",
   "version": "3.12.7"
  }
 },
 "nbformat": 4,
 "nbformat_minor": 5
}
